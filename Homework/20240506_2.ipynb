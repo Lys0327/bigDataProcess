{
  "nbformat": 4,
  "nbformat_minor": 0,
  "metadata": {
    "colab": {
      "provenance": []
    },
    "kernelspec": {
      "name": "python3",
      "display_name": "Python 3"
    },
    "language_info": {
      "name": "python"
    }
  },
  "cells": [
    {
      "cell_type": "code",
      "execution_count": 1,
      "metadata": {
        "colab": {
          "base_uri": "https://localhost:8080/"
        },
        "id": "hUFArgkSetPn",
        "outputId": "54235725-9519-4a6f-c355-cd66895a4a64"
      },
      "outputs": [
        {
          "output_type": "stream",
          "name": "stdout",
          "text": [
            "* * * * * * * * * * * * * * * * * * * * \n",
            "* * * * * * * * * * * * * * * * * * * * * * * * * * * * * * \n",
            "* * * * * * * * * * * * * * * * * * * * * * * * * * * * * * * * * * * * * * * * * * * * * * * * * * \n"
          ]
        }
      ],
      "source": [
        "for i in range(1,21):\n",
        "  print('*',end = ' ')\n",
        "print( )\n",
        "\n",
        "for i in range(1,31):\n",
        "  print('*',end = ' ')\n",
        "print( )\n",
        "\n",
        "for i in range(1,51):\n",
        "  print('*',end = ' ')\n",
        "print( )"
      ]
    },
    {
      "cell_type": "code",
      "source": [
        "def printStar(n):\n",
        "  for i in range(1,n+1):\n",
        "    print('*',end = ' ')\n",
        "  print( )\n",
        "\n",
        "def main( ):\n",
        "  printStar(20)\n",
        "  printStar(30)\n",
        "  printStar(50)\n",
        "\n",
        "main( )"
      ],
      "metadata": {
        "colab": {
          "base_uri": "https://localhost:8080/"
        },
        "id": "4UpETnexfchp",
        "outputId": "16d270b5-21ef-4f58-8395-7e937dcbc21c"
      },
      "execution_count": 2,
      "outputs": [
        {
          "output_type": "stream",
          "name": "stdout",
          "text": [
            "* * * * * * * * * * * * * * * * * * * * \n",
            "* * * * * * * * * * * * * * * * * * * * * * * * * * * * * * \n",
            "* * * * * * * * * * * * * * * * * * * * * * * * * * * * * * * * * * * * * * * * * * * * * * * * * * \n"
          ]
        }
      ]
    },
    {
      "cell_type": "code",
      "source": [
        "def total( ):\n",
        "  sum = 0\n",
        "  for i in range(1,101):\n",
        "    sum += i\n",
        "  print('summation of 1 to 100:',sum)\n",
        "\n",
        "def main( ):\n",
        "  total( )\n",
        "\n",
        "main( )"
      ],
      "metadata": {
        "colab": {
          "base_uri": "https://localhost:8080/"
        },
        "id": "Mk9MlX9Zf926",
        "outputId": "537d0560-3d8e-498f-9b53-21bef16910be"
      },
      "execution_count": 3,
      "outputs": [
        {
          "output_type": "stream",
          "name": "stdout",
          "text": [
            "summation of 1 to 100: 5050\n"
          ]
        }
      ]
    },
    {
      "cell_type": "code",
      "source": [
        "def total( ):\n",
        "  sum = 0\n",
        "  for i in range(1,101):\n",
        "    sum += i\n",
        "  return sum\n",
        "\n",
        "def main( ):\n",
        "  t = total( )\n",
        "  print('summation of 1 to 100:',t)\n",
        "\n",
        "main( )"
      ],
      "metadata": {
        "colab": {
          "base_uri": "https://localhost:8080/"
        },
        "id": "rPP28bILo1D7",
        "outputId": "e010807e-e3f7-415c-b9b4-b50c367f44d3"
      },
      "execution_count": 10,
      "outputs": [
        {
          "output_type": "stream",
          "name": "stdout",
          "text": [
            "summation of 1 to 100: 5050\n"
          ]
        }
      ]
    },
    {
      "cell_type": "code",
      "source": [
        "def total(a,b):\n",
        "  sum = 0\n",
        "  for i in range(a,b+1):\n",
        "    sum += i\n",
        "  return sum\n",
        "\n",
        "def main( ):\n",
        "  x = eval(input('Enter start number:'))\n",
        "  y = eval(input('Enter end number:'))\n",
        "  t = total(x,y)\n",
        "  print('summation of %d to %d: %d'%(x,y,t))\n",
        "\n",
        "main( )"
      ],
      "metadata": {
        "colab": {
          "base_uri": "https://localhost:8080/"
        },
        "id": "D0pW7LcBgfeT",
        "outputId": "e2c58599-53a6-4e6e-d3f3-b3b63af90f38"
      },
      "execution_count": 7,
      "outputs": [
        {
          "output_type": "stream",
          "name": "stdout",
          "text": [
            "Enter start number:2\n",
            "Enter end number:100\n",
            "summation of 2 to 100: 5049\n"
          ]
        }
      ]
    },
    {
      "cell_type": "code",
      "source": [
        "def total(a,b):\n",
        "  sum = 0\n",
        "  for i in range(a,b+1):\n",
        "    sum += i\n",
        "  return sum\n",
        "\n",
        "def main( ):\n",
        "  x = eval(input('Enter start number:'))\n",
        "  y = eval(input('Enter end number:'))\n",
        "  t = total(x,y)\n",
        "  print('summation of %d to %d: %d'%(x,y,t))\n",
        "\n",
        "main( )"
      ],
      "metadata": {
        "colab": {
          "base_uri": "https://localhost:8080/"
        },
        "id": "wO2hYldRh3fO",
        "outputId": "e57293b8-1dc8-4835-8f77-5ff0b5358e1e"
      },
      "execution_count": 8,
      "outputs": [
        {
          "output_type": "stream",
          "name": "stdout",
          "text": [
            "Enter start number:1\n",
            "Enter end number:101\n",
            "summation of 1 to 101: 5151\n"
          ]
        }
      ]
    }
  ]
}