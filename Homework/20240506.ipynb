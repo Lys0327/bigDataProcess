{
  "nbformat": 4,
  "nbformat_minor": 0,
  "metadata": {
    "colab": {
      "provenance": []
    },
    "kernelspec": {
      "name": "python3",
      "display_name": "Python 3"
    },
    "language_info": {
      "name": "python"
    }
  },
  "cells": [
    {
      "cell_type": "code",
      "execution_count": 1,
      "metadata": {
        "colab": {
          "base_uri": "https://localhost:8080/"
        },
        "id": "CrPLQbY_404-",
        "outputId": "9726ab51-b445-4272-b216-5f8296ac996f"
      },
      "outputs": [
        {
          "output_type": "stream",
          "name": "stdout",
          "text": [
            "27 20 24 27 36 7 \n",
            "comtinue:1 or quit:0 ---->1\n",
            "26 17 8 33 26 21 \n",
            "comtinue:1 or quit:0 ---->1\n",
            "24 17 6 33 9 25 \n",
            "comtinue:1 or quit:0 ---->1\n",
            "40 44 14 27 22 19 \n",
            "comtinue:1 or quit:0 ---->0\n",
            "Over\n"
          ]
        }
      ],
      "source": [
        "import random\n",
        "while True:\n",
        "  for i in range(1,7):\n",
        "    randNum = random.randint(1,49)\n",
        "    print(randNum,end=' ')\n",
        "  print( )\n",
        "  again = eval(input('comtinue:1 or quit:0 ---->'))\n",
        "  if again == 0:\n",
        "    break\n",
        "print('Over')"
      ]
    },
    {
      "cell_type": "code",
      "source": [
        "import random\n",
        "n1 = random.randint(1,100)\n",
        "n2 = random.randint(1,100)\n",
        "while True:\n",
        "  solution = n1 + n2\n",
        "  answer = eval(input('%d+%d = '%(n1,n2)))\n",
        "  if answer == solution:\n",
        "    print('Correct, you are very good.')\n",
        "    break\n",
        "  else:\n",
        "    print('Wrong answer, try again.')\n",
        "print('Over')"
      ],
      "metadata": {
        "colab": {
          "base_uri": "https://localhost:8080/"
        },
        "id": "ztF0dwOI5z2h",
        "outputId": "cc6834a6-1f2c-4a94-ca81-2f58a66374d5"
      },
      "execution_count": 2,
      "outputs": [
        {
          "output_type": "stream",
          "name": "stdout",
          "text": [
            "3+3 = 11\n",
            "Wrong answer, try again.\n",
            "3+3 = 15\n",
            "Wrong answer, try again.\n",
            "3+3 = 27\n",
            "Wrong answer, try again.\n",
            "3+3 = 6\n",
            "Correct, you are very good.\n",
            "Over\n"
          ]
        }
      ]
    },
    {
      "cell_type": "code",
      "source": [
        "total = 0\n",
        "number = 1\n",
        "while number <= 15:\n",
        "  if number % 5 == 0:\n",
        "    number += 1\n",
        "    continue\n",
        "  print('%3d'%(number),end = ' ')\n",
        "  total += number\n",
        "  number += 1\n",
        "\n",
        "print('\\ntotal = %d'%(total))"
      ],
      "metadata": {
        "colab": {
          "base_uri": "https://localhost:8080/"
        },
        "id": "5w6oaB9p7Nt8",
        "outputId": "e1772c0e-9502-4062-c744-219f59778f49"
      },
      "execution_count": 5,
      "outputs": [
        {
          "output_type": "stream",
          "name": "stdout",
          "text": [
            "  1   2   3   4   6   7   8   9  11  12  13  14 \n",
            "total = 90\n"
          ]
        }
      ]
    },
    {
      "cell_type": "code",
      "source": [
        "total = 0\n",
        "number = 1\n",
        "while number <= 15:\n",
        "  if number % 5 == 0:\n",
        "    number += 1\n",
        "    break\n",
        "  print('%3d'%(number),end = ' ')\n",
        "  total += number\n",
        "  number += 1\n",
        "\n",
        "print('\\ntotal = %d'%(total))"
      ],
      "metadata": {
        "colab": {
          "base_uri": "https://localhost:8080/"
        },
        "id": "BsfosHq_8Yzk",
        "outputId": "17098f12-cb6f-45fe-8bea-558d7c857f4d"
      },
      "execution_count": 6,
      "outputs": [
        {
          "output_type": "stream",
          "name": "stdout",
          "text": [
            "  1   2   3   4 \n",
            "total = 10\n"
          ]
        }
      ]
    }
  ]
}