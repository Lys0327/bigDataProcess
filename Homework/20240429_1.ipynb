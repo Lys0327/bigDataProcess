{
  "nbformat": 4,
  "nbformat_minor": 0,
  "metadata": {
    "colab": {
      "provenance": []
    },
    "kernelspec": {
      "name": "python3",
      "display_name": "Python 3"
    },
    "language_info": {
      "name": "python"
    }
  },
  "cells": [
    {
      "cell_type": "code",
      "execution_count": 1,
      "metadata": {
        "colab": {
          "base_uri": "https://localhost:8080/"
        },
        "id": "O7TrbaL90ynB",
        "outputId": "73a56062-e70b-4314-ada6-992e5bc6a1f7"
      },
      "outputs": [
        {
          "output_type": "stream",
          "name": "stdout",
          "text": [
            " 100   47   46    6   83   61   81   86    4   21 "
          ]
        }
      ],
      "source": [
        "import random\n",
        "for i in range(1,11):\n",
        "  randNum = random.randint(1,100)\n",
        "  print('%4d'%(randNum),end= ' ')"
      ]
    },
    {
      "cell_type": "code",
      "source": [
        "import random\n",
        "even = 0\n",
        "odd =  0\n",
        "for i in range(1,11):\n",
        "  randNum = random.randint(1,100)\n",
        "  print(randNum,end = ' ')\n",
        "  if randNum %2 == 0:\n",
        "    even += 1\n",
        "  else:\n",
        "    odd += 1\n",
        "print('\\neven = %d, odd = %d'%(even,odd))"
      ],
      "metadata": {
        "colab": {
          "base_uri": "https://localhost:8080/"
        },
        "id": "QgtbzQqL1ai3",
        "outputId": "52edc97c-bd4b-4b0c-c391-0383cd657493"
      },
      "execution_count": 2,
      "outputs": [
        {
          "output_type": "stream",
          "name": "stdout",
          "text": [
            "34 76 63 38 20 28 94 12 35 59 \n",
            "even = 7, odd = 3\n"
          ]
        }
      ]
    },
    {
      "cell_type": "code",
      "source": [
        "if randNum %2 == 0:\n",
        "  even += 1\n",
        "else:\n",
        "  odd += 1\n",
        "print('\\neven = %d, odd = %d'%(even,odd))"
      ],
      "metadata": {
        "colab": {
          "base_uri": "https://localhost:8080/"
        },
        "id": "nSMSro2N2d_x",
        "outputId": "b5604699-1648-4b5b-80f0-5da8d4fd341c"
      },
      "execution_count": 5,
      "outputs": [
        {
          "output_type": "stream",
          "name": "stdout",
          "text": [
            "\n",
            "even = 7, odd = 6\n"
          ]
        }
      ]
    }
  ]
}