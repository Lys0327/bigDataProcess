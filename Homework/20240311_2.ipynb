{
  "nbformat": 4,
  "nbformat_minor": 0,
  "metadata": {
    "colab": {
      "provenance": []
    },
    "kernelspec": {
      "name": "python3",
      "display_name": "Python 3"
    },
    "language_info": {
      "name": "python"
    }
  },
  "cells": [
    {
      "cell_type": "code",
      "execution_count": null,
      "metadata": {
        "colab": {
          "base_uri": "https://localhost:8080/"
        },
        "id": "kcK6diLpIcSU",
        "outputId": "480988db-dc6c-4efb-c41b-bf5232b01543"
      },
      "outputs": [
        {
          "output_type": "stream",
          "name": "stdout",
          "text": [
            "56\n",
            "56 is an even number.\n"
          ]
        }
      ],
      "source": [
        "a=int(input())\n",
        "\n",
        "if a%2 == 0:\n",
        "  print(\"%d is an even number.\"% a)\n",
        "else:\n",
        "  print(\"%d is not an even number.\"% a)"
      ]
    },
    {
      "cell_type": "code",
      "source": [
        "a=int(input())\n",
        "\n",
        "if a%2 == 0:\n",
        "  print(\"%d is an even number.\"% a)\n",
        "else:\n",
        "  print(\"%d is not an even number.\"% a)"
      ],
      "metadata": {
        "colab": {
          "base_uri": "https://localhost:8080/"
        },
        "id": "Xv25TSXzJP-4",
        "outputId": "4f5e70c8-1b65-458d-ce6a-9a3e2aa6d358"
      },
      "execution_count": null,
      "outputs": [
        {
          "output_type": "stream",
          "name": "stdout",
          "text": [
            "21\n",
            "21 is not an even number.\n"
          ]
        }
      ]
    },
    {
      "cell_type": "code",
      "source": [
        "a = int(input())\n",
        "\n",
        "if(a%3 == 0)and(a%5 ==0):\n",
        "  print(\"%d is a multiple of 3 and 5.\"%a)\n",
        "elif a%3 == 0:\n",
        "  print(\"%d is a multiple of 3.\"%a)\n",
        "elif a%5 == 0:\n",
        "  print(\"%d is a multiple of 5.\"%a)\n",
        "else:\n",
        "  print(\"%d is not a multiple of 3 or 5.\"%a)"
      ],
      "metadata": {
        "colab": {
          "base_uri": "https://localhost:8080/"
        },
        "id": "lCHoiP1UJTWH",
        "outputId": "f1720490-11e9-4f2b-bcbb-40ca61c941f3"
      },
      "execution_count": null,
      "outputs": [
        {
          "output_type": "stream",
          "name": "stdout",
          "text": [
            "55\n",
            "55 is a multiple of 5.\n"
          ]
        }
      ]
    },
    {
      "cell_type": "code",
      "source": [
        "a = int(input())\n",
        "\n",
        "if(a%3 == 0)and(a%5 ==0):\n",
        "  print(\"%d is a multiple of 3 and 5.\"%a)\n",
        "elif a%3 == 0:\n",
        "  print(\"%d is a multiple of 3.\"%a)\n",
        "elif a%5 == 0:\n",
        "  print(\"%d is a multiple of 5.\"%a)\n",
        "else:\n",
        "  print(\"%d is not a multiple of 3 or 5.\"%a)"
      ],
      "metadata": {
        "colab": {
          "base_uri": "https://localhost:8080/"
        },
        "id": "0LXLIwBrK9PE",
        "outputId": "983a19b9-2d9f-4048-8698-17ba31c2a7bf"
      },
      "execution_count": null,
      "outputs": [
        {
          "output_type": "stream",
          "name": "stdout",
          "text": [
            "92\n",
            "92 is not a multiple of 3 or 5.\n"
          ]
        }
      ]
    },
    {
      "cell_type": "code",
      "source": [
        "year = int(input())\n",
        "\n",
        "if year%400 == 0 or (year%4 ==0 and year%100!= 0):\n",
        "  print(year,\"is a leap year.\")\n",
        "else:\n",
        "  print(year,\"is not a leap year.\")"
      ],
      "metadata": {
        "colab": {
          "base_uri": "https://localhost:8080/"
        },
        "id": "W3i2IwaFLN5c",
        "outputId": "5133bbab-b3da-49e9-8335-b5b87f53f57d"
      },
      "execution_count": null,
      "outputs": [
        {
          "output_type": "stream",
          "name": "stdout",
          "text": [
            "2000\n",
            "2000 is a leap year.\n"
          ]
        }
      ]
    },
    {
      "cell_type": "code",
      "source": [
        "year = int(input())\n",
        "\n",
        "if year%400 == 0 or (year%4 ==0 and year%100!= 0):\n",
        "  print(year,\"is a leap year.\")\n",
        "else:\n",
        "  print(year,\"is not a leap year.\")"
      ],
      "metadata": {
        "colab": {
          "base_uri": "https://localhost:8080/"
        },
        "id": "WvjIATr2MGtu",
        "outputId": "f428a908-05c7-4f76-9b1d-40edbf3edd95"
      },
      "execution_count": null,
      "outputs": [
        {
          "output_type": "stream",
          "name": "stdout",
          "text": [
            "2002\n",
            "2002 is not a leap year.\n"
          ]
        }
      ]
    },
    {
      "cell_type": "code",
      "source": [
        "a = eval(input())\n",
        "b = eval(input())\n",
        "opr = input()\n",
        "ans = 0\n",
        "\n",
        "if opr == '+': ans = a+b\n",
        "elif opr == '-': ans = a-b\n",
        "elif opr == '*': ans = a*b\n",
        "elif opr == '/': ans = a/b\n",
        "elif opr == '//': ans = a//b\n",
        "elif opr =='%': ans = a%b\n",
        "\n",
        "print(ans)"
      ],
      "metadata": {
        "colab": {
          "base_uri": "https://localhost:8080/"
        },
        "id": "L9R-eKfhMPd-",
        "outputId": "9b4e4611-c272-497c-a836-4efc2949b181"
      },
      "execution_count": null,
      "outputs": [
        {
          "output_type": "stream",
          "name": "stdout",
          "text": [
            "40\n",
            "20\n",
            "*\n",
            "800\n"
          ]
        }
      ]
    },
    {
      "cell_type": "code",
      "source": [
        "c = input()\n",
        "\n",
        "if('a'<=c <='z')or('A'<= c <='Z'):\n",
        "  print(c, \"is an alphabet.\")\n",
        "elif('0'<= c <='9'):\n",
        "  print(c,\"is a number.\")\n",
        "else:\n",
        "  print(c,\"is a symbol.\")"
      ],
      "metadata": {
        "colab": {
          "base_uri": "https://localhost:8080/"
        },
        "id": "ygfSnRa8NqXi",
        "outputId": "e52e1607-fc20-4827-c0b6-5f8c4c351a55"
      },
      "execution_count": null,
      "outputs": [
        {
          "output_type": "stream",
          "name": "stdout",
          "text": [
            "A\n",
            "A is an alphabet.\n"
          ]
        }
      ]
    },
    {
      "cell_type": "code",
      "source": [
        "c = input()\n",
        "\n",
        "if('a'<=c <='z')or('A'<= c <='Z'):\n",
        "  print(c, \"is an alphabet.\")\n",
        "elif('0'<= c <='9'):\n",
        "  print(c,\"is a number.\")\n",
        "else:\n",
        "  print(c,\"is a symbol.\")"
      ],
      "metadata": {
        "colab": {
          "base_uri": "https://localhost:8080/"
        },
        "id": "HiX9SA3zO06a",
        "outputId": "a3896ef6-cd55-478e-dcfb-01f2547ff361"
      },
      "execution_count": null,
      "outputs": [
        {
          "output_type": "stream",
          "name": "stdout",
          "text": [
            "$\n",
            "$ is a symbol.\n"
          ]
        }
      ]
    },
    {
      "cell_type": "code",
      "source": [
        "c = input()\n",
        "\n",
        "if('a'<=c <='z')or('A'<= c <='Z'):\n",
        "  print(c, \"is an alphabet.\")\n",
        "elif('0'<= c <='9'):\n",
        "  print(c,\"is a number.\")\n",
        "else:\n",
        "  print(c,\"is a symbol.\")"
      ],
      "metadata": {
        "colab": {
          "base_uri": "https://localhost:8080/"
        },
        "id": "mCTaQbTSO5xT",
        "outputId": "92369997-2773-4430-9df2-529795f0e1a8"
      },
      "execution_count": null,
      "outputs": [
        {
          "output_type": "stream",
          "name": "stdout",
          "text": [
            "9\n",
            "9 is a number.\n"
          ]
        }
      ]
    },
    {
      "cell_type": "code",
      "source": [
        "score = eval(input())\n",
        "\n",
        "if 80 <= score <= 100:\n",
        "  grade = 'A'\n",
        "elif 70 <= score <= 79:\n",
        "  grade = 'B'\n",
        "elif 60 <= score <= 69:\n",
        "  grade = 'C'\n",
        "elif score <= 59:\n",
        "  grade = 'F'\n",
        "\n",
        "print(grade)"
      ],
      "metadata": {
        "colab": {
          "base_uri": "https://localhost:8080/"
        },
        "id": "-tP3ImW-O_nE",
        "outputId": "4b84ce2a-5ae6-41cc-f90a-f2526b7a7898"
      },
      "execution_count": null,
      "outputs": [
        {
          "output_type": "stream",
          "name": "stdout",
          "text": [
            "80\n",
            "A\n"
          ]
        }
      ]
    },
    {
      "cell_type": "code",
      "source": [
        "cost = eval(input())\n",
        "\n",
        "if cost >= 38000:\n",
        "  pay = cost * 0.7\n",
        "elif cost >= 28000:\n",
        "  pay = cost * 0.8\n",
        "elif cost >= 8000:\n",
        "  pay = cost * 0.95\n",
        "\n",
        "print(pay)"
      ],
      "metadata": {
        "colab": {
          "base_uri": "https://localhost:8080/"
        },
        "id": "saOynecDQka9",
        "outputId": "87a9f207-7dd4-4a55-cd33-b177da40c382"
      },
      "execution_count": null,
      "outputs": [
        {
          "output_type": "stream",
          "name": "stdout",
          "text": [
            "14000\n",
            "13300.0\n"
          ]
        }
      ]
    },
    {
      "cell_type": "code",
      "source": [
        "num = eval(input())\n",
        "\n",
        "if 0<= num <= 9: hex_num = num\n",
        "elif num == 10: hex_num = 'A'\n",
        "elif num == 11: hex_num = 'B'\n",
        "elif num == 12: hex_num = 'C'\n",
        "elif num == 13: hex_num = 'D'\n",
        "elif num == 14: hex_num = 'E'\n",
        "elif num == 15: hex_num = 'F'\n",
        "\n",
        "print(hex_num)"
      ],
      "metadata": {
        "colab": {
          "base_uri": "https://localhost:8080/"
        },
        "id": "W_LNpYcORTgf",
        "outputId": "e7cf4ed7-cce0-49a6-eafa-606fe00d55bb"
      },
      "execution_count": null,
      "outputs": [
        {
          "output_type": "stream",
          "name": "stdout",
          "text": [
            "14\n",
            "E\n"
          ]
        }
      ]
    },
    {
      "cell_type": "code",
      "source": [
        "num = eval(input())\n",
        "\n",
        "if 0<= num <= 9: hex_num = num\n",
        "elif num == 10: hex_num = 'A'\n",
        "elif num == 11: hex_num = 'B'\n",
        "elif num == 12: hex_num = 'C'\n",
        "elif num == 13: hex_num = 'D'\n",
        "elif num == 14: hex_num = 'E'\n",
        "elif num == 15: hex_num = 'F'\n",
        "\n",
        "print(hex_num)"
      ],
      "metadata": {
        "colab": {
          "base_uri": "https://localhost:8080/"
        },
        "id": "CH2W_SVSSnq5",
        "outputId": "0ba195d6-f86f-422c-e0f7-2ff41a4a8474"
      },
      "execution_count": null,
      "outputs": [
        {
          "output_type": "stream",
          "name": "stdout",
          "text": [
            "8\n",
            "8\n"
          ]
        }
      ]
    },
    {
      "cell_type": "code",
      "source": [
        "x = eval(input())\n",
        "y = eval(input())\n",
        "dist = ((x-5)**2 + (y-6)**2)** 0.5\n",
        "\n",
        "if dist <= 15:\n",
        "  print(\"Inside\")\n",
        "else:\n",
        "  print(\"Outside\")"
      ],
      "metadata": {
        "colab": {
          "base_uri": "https://localhost:8080/"
        },
        "id": "pB5aIePWSq2B",
        "outputId": "0215def9-cec7-411b-a3be-945630b72256"
      },
      "execution_count": null,
      "outputs": [
        {
          "output_type": "stream",
          "name": "stdout",
          "text": [
            "40\n",
            "44\n",
            "Outside\n"
          ]
        }
      ]
    },
    {
      "cell_type": "code",
      "source": [
        "side1 = eval(input())\n",
        "side2 = eval(input())\n",
        "side3 = eval(input())\n",
        "\n",
        "if side1 + side2 > side3 \\\n",
        "  and side2 + side3 > side1 \\\n",
        "  and side1 + side3 > side2:\n",
        "    print(side1 + side2 + side3)\n",
        "else:\n",
        "  print(\"Invalid\")"
      ],
      "metadata": {
        "colab": {
          "base_uri": "https://localhost:8080/"
        },
        "id": "L4xPpjHmTr_D",
        "outputId": "ac58a8bd-1d90-4254-98e9-b6c8f1d6aeaf"
      },
      "execution_count": null,
      "outputs": [
        {
          "output_type": "stream",
          "name": "stdout",
          "text": [
            "4\n",
            "4\n",
            "4\n",
            "12\n"
          ]
        }
      ]
    },
    {
      "cell_type": "code",
      "source": [
        "side1 = eval(input())\n",
        "side2 = eval(input())\n",
        "side3 = eval(input())\n",
        "\n",
        "if side1 + side2 > side3 \\\n",
        "  and side2 + side3 > side1 \\\n",
        "  and side1 + side3 > side2:\n",
        "    print(side1 + side2 + side3)\n",
        "else:\n",
        "  print(\"Invalid\")"
      ],
      "metadata": {
        "colab": {
          "base_uri": "https://localhost:8080/"
        },
        "id": "TOfP1rYdVO5t",
        "outputId": "165a66da-e472-4d83-cb58-c088ac37d740"
      },
      "execution_count": null,
      "outputs": [
        {
          "output_type": "stream",
          "name": "stdout",
          "text": [
            "4\n",
            "9\n",
            "40\n",
            "Invalid\n"
          ]
        }
      ]
    },
    {
      "cell_type": "code",
      "source": [
        "x1,y1 = eval(input())\n",
        "if abs(x1) <= 8/2 and abs (y1)<= 6/2:\n",
        "  print('(%d,%d)is inside of the rectangle'%(x1,y1))\n",
        "else:\n",
        "  print('(%d,%d)is outside of the rectangle'%(x1,y1))"
      ],
      "metadata": {
        "colab": {
          "base_uri": "https://localhost:8080/"
        },
        "id": "8tI0qJ5SVaqE",
        "outputId": "cc0f0d7b-f33e-41e0-ffac-40647bc8f93d"
      },
      "execution_count": null,
      "outputs": [
        {
          "output_type": "stream",
          "name": "stdout",
          "text": [
            "12, 22\n",
            "(12,22)is outside of the rectangle\n"
          ]
        }
      ]
    },
    {
      "cell_type": "code",
      "source": [
        "import random\n",
        "num = random.randint(1,100)\n",
        "if num % 2 == 0:\n",
        "  print('%d is even number.'%(num))\n",
        "else:\n",
        "  print('%d is odd number.'%(num))"
      ],
      "metadata": {
        "colab": {
          "base_uri": "https://localhost:8080/"
        },
        "id": "ucjN2Np5XgYI",
        "outputId": "1a07151b-159b-418c-8e9a-a8ab13e76ac6"
      },
      "execution_count": null,
      "outputs": [
        {
          "output_type": "stream",
          "name": "stdout",
          "text": [
            "47 is odd number.\n"
          ]
        }
      ]
    },
    {
      "cell_type": "code",
      "source": [
        "a,b,c = eval(input('Enter a,b,c:'))\n",
        "d,e,f = eval(input('Enter d,e,f:'))\n",
        "\n",
        "if a*e - b*d == 0:\n",
        "  if c*e - b*f == 0 and a*f - c*d == 0:\n",
        "    print('有無限多組解')\n",
        "  else:\n",
        "    print('無解')\n",
        "else:\n",
        "  x = (c*e - b*f) / (a*e - b*d)\n",
        "  y = (a*f - c*d) / (a*e - b*d)\n",
        "  print('x is %.2f, y = %.2f '%(x,y))"
      ],
      "metadata": {
        "colab": {
          "base_uri": "https://localhost:8080/"
        },
        "id": "dxt1GMLMYWDb",
        "outputId": "e1d10ad1-18c0-4e01-d338-974dda6cc9db"
      },
      "execution_count": null,
      "outputs": [
        {
          "output_type": "stream",
          "name": "stdout",
          "text": [
            "Enter a,b,c:1,2,3\n",
            "Enter d,e,f:4,5,6\n",
            "x is -1.00, y = 2.00 \n"
          ]
        }
      ]
    },
    {
      "cell_type": "code",
      "source": [
        "number = eval(input(\"Enter a three - digit integer:\"))\n",
        "reversedNumber = (number%10)*100 + (number //10\\\n",
        "          %10)*10+(number//100)\n",
        "\n",
        "if number == reversedNumber:\n",
        "  print(number,\"is a palindrome number.\")\n",
        "else:\n",
        "  print(number,\"is not a palindrome number.\")"
      ],
      "metadata": {
        "colab": {
          "base_uri": "https://localhost:8080/"
        },
        "id": "lKfSuHS8adVP",
        "outputId": "71a1f361-0afe-41c3-9184-7dc2466b269e"
      },
      "execution_count": null,
      "outputs": [
        {
          "output_type": "stream",
          "name": "stdout",
          "text": [
            "Enter a three - digit integer:144\n",
            "144 is not a palindrome number.\n"
          ]
        }
      ]
    },
    {
      "cell_type": "code",
      "source": [
        "num1,num2,num3 = eval(input(\"Enter three integers:\"))\n",
        "if num1 > num2:\n",
        "  num1,num2 = num2,num1\n",
        "\n",
        "if num2 > num3:\n",
        "  num2,num3 = num3,num2\n",
        "\n",
        "if num1 > num2:\n",
        "  num1,num2 = num2,num1\n",
        "\n",
        "print(\"The sorted numbers are\",num1,num2,num3)"
      ],
      "metadata": {
        "colab": {
          "base_uri": "https://localhost:8080/"
        },
        "id": "qJwNHjRjbuaJ",
        "outputId": "5c060e6b-6c48-4325-cb15-ec2ed1dd6a31"
      },
      "execution_count": null,
      "outputs": [
        {
          "output_type": "stream",
          "name": "stdout",
          "text": [
            "Enter three integers:4,9,11\n",
            "The sorted numbers are 4 9 11\n"
          ]
        }
      ]
    }
  ]
}