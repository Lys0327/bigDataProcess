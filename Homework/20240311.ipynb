{
  "nbformat": 4,
  "nbformat_minor": 0,
  "metadata": {
    "colab": {
      "provenance": []
    },
    "kernelspec": {
      "name": "python3",
      "display_name": "Python 3"
    },
    "language_info": {
      "name": "python"
    }
  },
  "cells": [
    {
      "cell_type": "code",
      "execution_count": null,
      "metadata": {
        "colab": {
          "base_uri": "https://localhost:8080/"
        },
        "id": "tjvRO-qsnRa8",
        "outputId": "951a5690-7608-492d-f72c-e4a1247e1048"
      },
      "outputs": [
        {
          "output_type": "stream",
          "name": "stdout",
          "text": [
            "Enter a number:100\n",
            "100 is greater than 0\n",
            "Over\n"
          ]
        }
      ],
      "source": [
        "a = eval(input('Enter a number:'))\n",
        "if a > 0:\n",
        "  print(a,'is greater than 0')\n",
        "else:\n",
        "  print(a,'is less than 0')\n",
        "print('Over')"
      ]
    },
    {
      "cell_type": "code",
      "source": [
        "a = eval(input('Enter a number:'))\n",
        "if a > 0:\n",
        "  print(a,'is greater than 0')\n",
        "else:\n",
        "  print(a,'is less than 0')\n",
        "print('Over')"
      ],
      "metadata": {
        "colab": {
          "base_uri": "https://localhost:8080/"
        },
        "id": "Sa2wnvoAojXX",
        "outputId": "e9c25a38-2ced-4bda-d97d-fe307249523a"
      },
      "execution_count": null,
      "outputs": [
        {
          "output_type": "stream",
          "name": "stdout",
          "text": [
            "Enter a number:-100\n",
            "-100 is less than 0\n",
            "Over\n"
          ]
        }
      ]
    },
    {
      "cell_type": "code",
      "source": [
        "a,b,c = eval(input('Enter a,b,c:'))\n",
        "d = b*b - 4*a*c\n",
        "\n",
        "if d>0:\n",
        "  print('Has two different solutions')\n",
        "elif d==0:\n",
        "  print('Has one solution')\n",
        "else:\n",
        "  print('No solution')\n",
        "print('Over')"
      ],
      "metadata": {
        "colab": {
          "base_uri": "https://localhost:8080/"
        },
        "id": "HzIXcM9No5B2",
        "outputId": "31cc3930-1066-4a3b-ed95-a35428b88839"
      },
      "execution_count": null,
      "outputs": [
        {
          "output_type": "stream",
          "name": "stdout",
          "text": [
            "Enter a,b,c:1,2,3\n",
            "No solution\n",
            "Over\n"
          ]
        }
      ]
    },
    {
      "cell_type": "code",
      "source": [
        "if a>0:\n",
        "  print(a,'is greater than 0')\n",
        "elif a<0:\n",
        "  print(a,'is less than 0')\n",
        "else:\n",
        "  print(a,'is equal to 0')\n",
        "print('Over')"
      ],
      "metadata": {
        "colab": {
          "base_uri": "https://localhost:8080/"
        },
        "id": "WX8GA7_5qJtA",
        "outputId": "2577f1a4-6f07-47d8-f000-1049215d5cf2"
      },
      "execution_count": null,
      "outputs": [
        {
          "output_type": "stream",
          "name": "stdout",
          "text": [
            "1 is greater than 0\n",
            "Over\n"
          ]
        }
      ]
    },
    {
      "cell_type": "code",
      "source": [
        "height = eval(input('Enter height in centimeters:'))\n",
        "weight = eval(input('Enter weight in kilograms:'))\n",
        "\n",
        "bmi = weight/(height/100)**2\n",
        "print('Your BMI is %6.2f'%(bmi))\n",
        "\n",
        "if bmi<18.5:\n",
        "  print('Underweight')\n",
        "elif bmi< 25.0:\n",
        "  print('Normal')\n",
        "elif bmi< 30:\n",
        "  print('Overweight')\n",
        "else:\n",
        "  print('Obese')"
      ],
      "metadata": {
        "colab": {
          "base_uri": "https://localhost:8080/"
        },
        "id": "9O8l4A9D30qI",
        "outputId": "bb7bd231-ab9c-4d47-b6ae-f2b4760d0ed7"
      },
      "execution_count": null,
      "outputs": [
        {
          "output_type": "stream",
          "name": "stdout",
          "text": [
            "Enter height in centimeters:160\n",
            "Enter weight in kilograms:47\n",
            "Your BMI is  18.36\n",
            "Underweight\n"
          ]
        }
      ]
    },
    {
      "cell_type": "code",
      "source": [
        "num = eval(input('Enter a number:'))\n",
        "if(85<= num)and(num<= 95):\n",
        "  print('%d is in the between 85 and 95'%(num))\n",
        "else:\n",
        "  print('%d is not in the between 85 and 95'%(num))\n",
        "\n",
        "print('Over')"
      ],
      "metadata": {
        "colab": {
          "base_uri": "https://localhost:8080/"
        },
        "id": "O0u1ajQF729V",
        "outputId": "9b674b48-4bf5-4ad6-f3ab-7172325cac92"
      },
      "execution_count": null,
      "outputs": [
        {
          "output_type": "stream",
          "name": "stdout",
          "text": [
            "Enter a number:111\n",
            "111 is not in the between 85 and 95\n",
            "Over\n"
          ]
        }
      ]
    },
    {
      "cell_type": "code",
      "source": [
        "num = eval(input('Enter a number:'))\n",
        "if(85<= num)and(num<= 95):\n",
        "  print('%d is in the between 85 and 95'%(num))\n",
        "else:\n",
        "  print('%d is not in the between 85 and 95'%(num))\n",
        "\n",
        "print('Over')"
      ],
      "metadata": {
        "colab": {
          "base_uri": "https://localhost:8080/"
        },
        "id": "VspUbuzZ87j4",
        "outputId": "16db2581-f66d-437b-c817-70d416a68f1a"
      },
      "execution_count": null,
      "outputs": [
        {
          "output_type": "stream",
          "name": "stdout",
          "text": [
            "Enter a number:84\n",
            "84 is not in the between 85 and 95\n",
            "Over\n"
          ]
        }
      ]
    }
  ]
}