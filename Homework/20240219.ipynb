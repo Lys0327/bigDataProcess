{
  "nbformat": 4,
  "nbformat_minor": 0,
  "metadata": {
    "colab": {
      "provenance": []
    },
    "kernelspec": {
      "name": "python3",
      "display_name": "Python 3"
    },
    "language_info": {
      "name": "python"
    }
  },
  "cells": [
    {
      "cell_type": "code",
      "execution_count": null,
      "metadata": {
        "colab": {
          "base_uri": "https://localhost:8080/"
        },
        "id": "ChJi1p1DB2Hs",
        "outputId": "2d9a99a5-f33e-46c2-95e7-dd2787ce1a30"
      },
      "outputs": [
        {
          "output_type": "stream",
          "name": "stdout",
          "text": [
            "\n",
            "  123\n",
            "   7b\n",
            "  173\n",
            "1111011\n"
          ]
        }
      ],
      "source": [
        "a = 123\n",
        "b = 123.456\n",
        "c = 'Python'\n",
        "\n",
        "#print(a)\n",
        "#print(b)\n",
        "#print(c)\n",
        "\n",
        "#print('a = ',a)\n",
        "#print('b = ',b)\n",
        "#print('c = ',c)\n",
        "\n",
        "#print(a, end = ' ')\n",
        "#print(b, end = ' ')\n",
        "#print(c)\n",
        "\n",
        "#print(format(a,'5d'))\n",
        "#print(format(b,'10.2f'))\n",
        "#print(format(c,'10s'))\n",
        "print()\n",
        "\n",
        "#print(format(a,'<5d'))\n",
        "#print(format(b,'>10.2f'))\n",
        "#print(format(c,'>10s'))\n",
        "\n",
        "#print('|  %5d   |'%a)\n",
        "#print('|%10.2f|'%b)\n",
        "#print('|%-10s|'%c)\n",
        "\n",
        "\n",
        "print(format(a,'5d'))\n",
        "print(format(a,'5x'))\n",
        "print(format(a,'5o'))\n",
        "print(format(a,'5b'))\n"
      ]
    },
    {
      "cell_type": "code",
      "source": [
        "x=123\n",
        "y=123456\n",
        "z=12\n",
        "\n",
        "print(format(x,'8d'),format(y,'8d'),format(z,'8d'))\n",
        "print('%8d'%x,'%8d'%y,'%8d'%z)"
      ],
      "metadata": {
        "colab": {
          "base_uri": "https://localhost:8080/"
        },
        "id": "AhJ4wBZ-KKiM",
        "outputId": "106038ae-4974-4590-d850-f2a381531a56"
      },
      "execution_count": null,
      "outputs": [
        {
          "output_type": "stream",
          "name": "stdout",
          "text": [
            "     123   123456       12\n",
            "     123   123456       12\n"
          ]
        }
      ]
    }
  ]
}