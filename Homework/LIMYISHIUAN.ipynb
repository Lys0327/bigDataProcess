{
  "cells": [
    {
      "cell_type": "code",
      "execution_count": null,
      "metadata": {
        "colab": {
          "base_uri": "https://localhost:8080/"
        },
        "id": "V69wY2miVAiD",
        "outputId": "9f57e71e-7cfc-42aa-9ea9-2468a24007ea"
      },
      "outputs": [
        {
          "name": "stdout",
          "output_type": "stream",
          "text": [
            "Python\"LIM YI SHIUAN\n",
            "Python'LIM YI SHIUAN\n",
            "Python\\LIM YI SHIUAN\n",
            "Python\tLIM YI SHIUAN\n",
            "Python\n",
            "LIM YI SHIUAN\n"
          ]
        }
      ],
      "source": [
        "print('Python\\\"LIM YI SHIUAN')\n",
        "print('Python\\'LIM YI SHIUAN')\n",
        "print('Python\\\\LIM YI SHIUAN')\n",
        "print('Python\\tLIM YI SHIUAN')\n",
        "print('Python\\nLIM YI SHIUAN')\n"
      ]
    },
    {
      "cell_type": "code",
      "source": [],
      "metadata": {
        "id": "3zm-IngKnMFW"
      },
      "execution_count": null,
      "outputs": []
    },
    {
      "cell_type": "code",
      "execution_count": null,
      "metadata": {
        "colab": {
          "base_uri": "https://localhost:8080/"
        },
        "id": "1oxkzMprZJUi",
        "outputId": "c5fba9ad-acde-45e2-98ff-994c0d959cab"
      },
      "outputs": [
        {
          "name": "stdout",
          "output_type": "stream",
          "text": [
            "100\n",
            "100\n",
            "Enter a number:100\n",
            "100\n"
          ]
        }
      ],
      "source": [
        "s = input()\n",
        "print(s)\n",
        "a = input('Enter a number:')\n",
        "print(a)\n"
      ]
    },
    {
      "cell_type": "code",
      "execution_count": null,
      "metadata": {
        "colab": {
          "base_uri": "https://localhost:8080/"
        },
        "id": "SNAscs-GdENc",
        "outputId": "e44e2b6e-a42e-43cf-90cf-ab6649f08d64"
      },
      "outputs": [
        {
          "name": "stdout",
          "output_type": "stream",
          "text": [
            "Enter a number:100\n",
            "200\n"
          ]
        }
      ],
      "source": [
        "a =eval(input('Enter a number:'))\n",
        "a =a+100\n",
        "print(a)\n"
      ]
    },
    {
      "cell_type": "code",
      "execution_count": null,
      "metadata": {
        "colab": {
          "base_uri": "https://localhost:8080/"
        },
        "id": "_I57nNFKfZ23",
        "outputId": "314f6d3a-b305-4410-f873-d88f60cbbf27"
      },
      "outputs": [
        {
          "name": "stdout",
          "output_type": "stream",
          "text": [
            "Enter a number:100\n",
            "110\n"
          ]
        }
      ],
      "source": [
        "a =int(input(\"Enter a number:\"))\n",
        "a = a+10\n",
        "print(a)\n"
      ]
    },
    {
      "cell_type": "code",
      "execution_count": null,
      "metadata": {
        "colab": {
          "base_uri": "https://localhost:8080/"
        },
        "id": "OCIIjFJGgoip",
        "outputId": "6489bb9d-9c25-4e02-e98c-50ebb8d58654"
      },
      "outputs": [
        {
          "name": "stdout",
          "output_type": "stream",
          "text": [
            "Enter two numbers:66, 88\n",
            "a = 66, b = 88\n"
          ]
        }
      ],
      "source": [
        "a, b=eval(input('Enter two numbers:'))\n",
        "print('a = %d, b = %d'%(a,b))\n"
      ]
    },
    {
      "cell_type": "code",
      "execution_count": null,
      "metadata": {
        "colab": {
          "base_uri": "https://localhost:8080/"
        },
        "id": "SkebAB1aiAyC",
        "outputId": "1d5ee246-2718-4c43-e0dc-f7944ce4614e"
      },
      "outputs": [
        {
          "name": "stdout",
          "output_type": "stream",
          "text": [
            "33.333333333333336\n",
            "33\n",
            "1\n",
            "10000\n",
            "10.0\n"
          ]
        }
      ],
      "source": [
        "a = 100\n",
        "b = a/3\n",
        "print(b)\n",
        "c = a//3\n",
        "print(c)\n",
        "f = a%3\n",
        "print(f)\n",
        "d = a**2\n",
        "print(d)\n",
        "e = a**0.5\n",
        "print(e)\n"
      ]
    },
    {
      "cell_type": "code",
      "execution_count": null,
      "metadata": {
        "colab": {
          "base_uri": "https://localhost:8080/"
        },
        "id": "zCHjmpjrkkXV",
        "outputId": "cd694803-3ce7-4f6f-aab9-7c60280377b9"
      },
      "outputs": [
        {
          "output_type": "stream",
          "name": "stdout",
          "text": [
            "Enter 7 number100,100,100,100,100,100,100\n",
            "102 98 200 50.0 50 0 10000\n"
          ]
        }
      ],
      "source": [
        "a, b, c, d, e, f, g=eval(input('Enter 7 number'))\n",
        "a += 2\n",
        "b -= 2\n",
        "c *= 2\n",
        "d /= 2\n",
        "e //= 2\n",
        "f %= 2\n",
        "g **= 2\n",
        "print(a, b, c, d, e, f, g)\n"
      ]
    },
    {
      "cell_type": "code",
      "source": [
        "r = 5\n",
        "area = 3.14159 * r ** 2\n",
        "perimeter = 2 * 3.14159 * r\n",
        "\n",
        "print('Area:',area)\n",
        "print('Perimeter:',perimeter)\n"
      ],
      "metadata": {
        "colab": {
          "base_uri": "https://localhost:8080/"
        },
        "id": "ttep2dCBFy8A",
        "outputId": "e9efe972-d0a0-42fa-c757-baf1330570a6"
      },
      "execution_count": null,
      "outputs": [
        {
          "output_type": "stream",
          "name": "stdout",
          "text": [
            "Area: 78.53975\n",
            "Perimeter: 31.4159\n"
          ]
        }
      ]
    },
    {
      "cell_type": "code",
      "source": [
        "area=3.14159*r**2\n",
        "print(area)\n",
        "\n",
        "perimeter=2*3.14159*r\n",
        "print(perimeter)"
      ],
      "metadata": {
        "colab": {
          "base_uri": "https://localhost:8080/"
        },
        "id": "O58c2dgWHhy9",
        "outputId": "0147846e-c03d-4014-806e-8a11d0ff7801"
      },
      "execution_count": null,
      "outputs": [
        {
          "output_type": "stream",
          "name": "stdout",
          "text": [
            "78.53975\n",
            "31.4159\n"
          ]
        }
      ]
    },
    {
      "cell_type": "code",
      "source": [
        "import math\n",
        "math.pi\n",
        "print(math.pi)\n",
        "\n",
        "math.e\n",
        "print(math.e)"
      ],
      "metadata": {
        "colab": {
          "base_uri": "https://localhost:8080/"
        },
        "id": "wq_4MuGxJGhx",
        "outputId": "22cd05bf-5060-44f1-d455-c82d2ca47b8d"
      },
      "execution_count": null,
      "outputs": [
        {
          "output_type": "stream",
          "name": "stdout",
          "text": [
            "3.141592653589793\n",
            "2.718281828459045\n"
          ]
        }
      ]
    },
    {
      "cell_type": "code",
      "source": [
        "area=3.14159*r**2\n",
        "print(area)\n",
        "\n",
        "perimeter=2*3.14159*r\n",
        "print(perimeter)\n",
        "\n",
        "import math\n",
        "area=math.pi*r**2\n",
        "print(area)\n",
        "\n",
        "perimeter=2*math.pi*r\n",
        "print(perimeter)"
      ],
      "metadata": {
        "colab": {
          "base_uri": "https://localhost:8080/"
        },
        "id": "x1HlDhYCJLZA",
        "outputId": "e7403774-b109-41a7-a209-5fa1f5efefea"
      },
      "execution_count": null,
      "outputs": [
        {
          "output_type": "stream",
          "name": "stdout",
          "text": [
            "78.53975\n",
            "31.4159\n",
            "78.53981633974483\n",
            "31.41592653589793\n"
          ]
        }
      ]
    },
    {
      "cell_type": "code",
      "source": [
        "import math\n",
        "math.sin(0)"
      ],
      "metadata": {
        "colab": {
          "base_uri": "https://localhost:8080/"
        },
        "id": "VuUTSN8HJNjY",
        "outputId": "e09ae9a1-e6bc-4451-987c-e799d260a7c9"
      },
      "execution_count": null,
      "outputs": [
        {
          "output_type": "execute_result",
          "data": {
            "text/plain": [
              "0.0"
            ]
          },
          "metadata": {},
          "execution_count": 103
        }
      ]
    },
    {
      "cell_type": "code",
      "source": [
        "math.sin(math.pi/2)"
      ],
      "metadata": {
        "colab": {
          "base_uri": "https://localhost:8080/"
        },
        "id": "qvHPAVBPJPqQ",
        "outputId": "427e73bc-bde4-4aab-b94a-90c3eca2a129"
      },
      "execution_count": null,
      "outputs": [
        {
          "output_type": "execute_result",
          "data": {
            "text/plain": [
              "1.0"
            ]
          },
          "metadata": {},
          "execution_count": 104
        }
      ]
    },
    {
      "cell_type": "code",
      "source": [
        "math.cos(math.pi/2)"
      ],
      "metadata": {
        "colab": {
          "base_uri": "https://localhost:8080/"
        },
        "id": "W8HDk-qLJSbI",
        "outputId": "b3baeeb5-7fd2-45eb-d8ef-658c59e2ec63"
      },
      "execution_count": null,
      "outputs": [
        {
          "output_type": "execute_result",
          "data": {
            "text/plain": [
              "6.123233995736766e-17"
            ]
          },
          "metadata": {},
          "execution_count": 105
        }
      ]
    },
    {
      "cell_type": "code",
      "source": [
        "math.cos(0)"
      ],
      "metadata": {
        "colab": {
          "base_uri": "https://localhost:8080/"
        },
        "id": "B_r0GlhXJViA",
        "outputId": "25ea0673-214c-4470-9671-2999a37d74f7"
      },
      "execution_count": null,
      "outputs": [
        {
          "output_type": "execute_result",
          "data": {
            "text/plain": [
              "1.0"
            ]
          },
          "metadata": {},
          "execution_count": 106
        }
      ]
    },
    {
      "cell_type": "code",
      "source": [
        "import math\n",
        "s=6.5\n",
        "area=(5*s**2)/(4*math.tan(math.pi/5))\n",
        "print(area)"
      ],
      "metadata": {
        "colab": {
          "base_uri": "https://localhost:8080/"
        },
        "id": "DkvoaHC7JXBQ",
        "outputId": "608d3147-585a-413b-a3ea-f41cf321734c"
      },
      "execution_count": null,
      "outputs": [
        {
          "output_type": "stream",
          "name": "stdout",
          "text": [
            "72.69017017488385\n"
          ]
        }
      ]
    },
    {
      "cell_type": "code",
      "source": [
        "import math\n",
        "s=6.5\n",
        "n=5\n",
        "area=(n*s**2)/(4*math.tan(math.pi/n))\n",
        "print(area)"
      ],
      "metadata": {
        "colab": {
          "base_uri": "https://localhost:8080/"
        },
        "id": "ZxbIpYOHJXGZ",
        "outputId": "c8751094-7a3b-4621-c06b-332787a29dd1"
      },
      "execution_count": null,
      "outputs": [
        {
          "output_type": "stream",
          "name": "stdout",
          "text": [
            "72.69017017488385\n"
          ]
        }
      ]
    },
    {
      "cell_type": "code",
      "source": [
        "a=('abs(-100)')\n",
        "print(a)\n",
        "b=max(22,33,11,88,99,66)\n",
        "print(b)\n",
        "\n",
        "c=min(22,33,11,88,99,66)\n",
        "print(c)\n",
        "\n",
        "d=(pow(2,10))\n",
        "print(d)\n",
        "\n",
        "e=(round(5.6))\n",
        "print(e)\n",
        "\n",
        "f=(round(5.2))\n",
        "print(f)\n",
        "\n",
        "g=(round(4.6))\n",
        "print(g)\n",
        "\n",
        "h=(round(4.5))\n",
        "print(h)\n",
        "\n",
        "i=(round(123.456,2))\n",
        "print(i)\n",
        "\n",
        "j=(round(123.456,1))\n",
        "print(j)"
      ],
      "metadata": {
        "colab": {
          "base_uri": "https://localhost:8080/"
        },
        "id": "nB0Ka-2NJXI5",
        "outputId": "55050bcc-2548-4a25-8cae-f39a2ed5b59a"
      },
      "execution_count": null,
      "outputs": [
        {
          "output_type": "stream",
          "name": "stdout",
          "text": [
            "abs(-100)\n",
            "99\n",
            "11\n",
            "1024\n",
            "6\n",
            "5\n",
            "5\n",
            "4\n",
            "123.46\n",
            "123.5\n"
          ]
        }
      ]
    },
    {
      "cell_type": "code",
      "source": [],
      "metadata": {
        "id": "dptqWAnCchzo"
      },
      "execution_count": null,
      "outputs": []
    }
  ],
  "metadata": {
    "colab": {
      "provenance": []
    },
    "kernelspec": {
      "display_name": "Python 3",
      "name": "python3"
    },
    "language_info": {
      "name": "python"
    }
  },
  "nbformat": 4,
  "nbformat_minor": 0
}