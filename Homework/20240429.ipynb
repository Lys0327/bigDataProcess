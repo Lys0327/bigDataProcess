{
  "nbformat": 4,
  "nbformat_minor": 0,
  "metadata": {
    "colab": {
      "provenance": []
    },
    "kernelspec": {
      "name": "python3",
      "display_name": "Python 3"
    },
    "language_info": {
      "name": "python"
    }
  },
  "cells": [
    {
      "cell_type": "code",
      "execution_count": 1,
      "metadata": {
        "colab": {
          "base_uri": "https://localhost:8080/"
        },
        "id": "O7TrbaL90ynB",
        "outputId": "73a56062-e70b-4314-ada6-992e5bc6a1f7"
      },
      "outputs": [
        {
          "output_type": "stream",
          "name": "stdout",
          "text": [
            " 100   47   46    6   83   61   81   86    4   21 "
          ]
        }
      ],
      "source": [
        "import random\n",
        "for i in range(1,11):\n",
        "  randNum = random.randint(1,100)\n",
        "  print('%4d'%(randNum),end= ' ')"
      ]
    },
    {
      "cell_type": "code",
      "source": [
        "import random\n",
        "even = 0\n",
        "odd =  0\n",
        "for i in range(1,11):\n",
        "  randNum = random.randint(1,100)\n",
        "  print(randNum,end = ' ')\n",
        "  if randNum %2 == 0:\n",
        "    even += 1\n",
        "  else:\n",
        "    odd += 1\n",
        "print('\\neven = %d, odd = %d'%(even,odd))"
      ],
      "metadata": {
        "colab": {
          "base_uri": "https://localhost:8080/"
        },
        "id": "QgtbzQqL1ai3",
        "outputId": "52edc97c-bd4b-4b0c-c391-0383cd657493"
      },
      "execution_count": 2,
      "outputs": [
        {
          "output_type": "stream",
          "name": "stdout",
          "text": [
            "34 76 63 38 20 28 94 12 35 59 \n",
            "even = 7, odd = 3\n"
          ]
        }
      ]
    },
    {
      "cell_type": "code",
      "source": [
        "if randNum %2 == 0:\n",
        "  even += 1\n",
        "else:\n",
        "  odd += 1\n",
        "print('\\neven = %d, odd = %d'%(even,odd))"
      ],
      "metadata": {
        "colab": {
          "base_uri": "https://localhost:8080/"
        },
        "id": "nSMSro2N2d_x",
        "outputId": "b5604699-1648-4b5b-80f0-5da8d4fd341c"
      },
      "execution_count": 5,
      "outputs": [
        {
          "output_type": "stream",
          "name": "stdout",
          "text": [
            "\n",
            "even = 7, odd = 6\n"
          ]
        }
      ]
    },
    {
      "cell_type": "code",
      "source": [
        "import random\n",
        "times3 = 0\n",
        "times5 = 0\n",
        "times7 = 0\n",
        "others = 0\n",
        "for i in range(1,101):\n",
        "  flag = False\n",
        "  randNum = random.randint(1,100)\n",
        "  print(randNum,end = ' ')\n",
        "  if randNum % 3 == 0:\n",
        "    times3 += 1\n",
        "    flag = True\n",
        "  if randNum % 5 == 0:\n",
        "    times5 += 1\n",
        "    flag = True\n",
        "  if randNum % 7 == 0:\n",
        "    times7 += 1\n",
        "    flag = True\n",
        "  if flag == False:\n",
        "    others += 1\n",
        "print('\\ntimes3 = %d,times5 = %d,times7 = %d'%(times3,times5,times7))\n",
        "print('others = %d'%(others))"
      ],
      "metadata": {
        "colab": {
          "base_uri": "https://localhost:8080/"
        },
        "id": "0sYPeUt66_D8",
        "outputId": "75e61cb1-c64c-4fb8-fe22-e40dad1bd068"
      },
      "execution_count": 6,
      "outputs": [
        {
          "output_type": "stream",
          "name": "stdout",
          "text": [
            "85 56 63 7 16 24 40 21 38 15 15 36 35 70 16 37 52 53 32 48 56 86 28 27 99 6 13 24 51 73 22 18 8 69 28 58 79 41 36 8 63 71 37 42 17 79 64 44 90 86 84 74 60 19 62 69 87 1 4 91 33 79 75 11 77 64 83 98 23 80 36 80 51 45 83 91 68 79 2 98 71 85 56 92 20 95 26 14 45 82 29 22 15 95 12 61 41 55 79 73 \n",
            "times3 = 30,times5 = 19,times7 = 19\n",
            "others = 47\n"
          ]
        }
      ]
    }
  ]
}