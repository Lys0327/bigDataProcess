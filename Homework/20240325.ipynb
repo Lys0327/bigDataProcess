{
  "nbformat": 4,
  "nbformat_minor": 0,
  "metadata": {
    "colab": {
      "provenance": [],
      "toc_visible": true
    },
    "kernelspec": {
      "name": "python3",
      "display_name": "Python 3"
    },
    "language_info": {
      "name": "python"
    }
  },
  "cells": [
    {
      "cell_type": "code",
      "execution_count": null,
      "metadata": {
        "colab": {
          "base_uri": "https://localhost:8080/"
        },
        "id": "FpiaE54cfYTf",
        "outputId": "8dbee4cb-c5d3-42b2-f083-7c09582b2011"
      },
      "outputs": [
        {
          "output_type": "stream",
          "name": "stdout",
          "text": [
            "total =  5050\n"
          ]
        }
      ],
      "source": [
        "i = 1\n",
        "total = 0\n",
        "while i <= 100:\n",
        "  total += i\n",
        "  i += 1\n",
        "print('total = ',total)"
      ]
    },
    {
      "cell_type": "code",
      "source": [
        "i = 2\n",
        "total = 0\n",
        "while i <= 100:\n",
        "  total += i\n",
        "  i += 1\n",
        "print('total = ',total)"
      ],
      "metadata": {
        "colab": {
          "base_uri": "https://localhost:8080/"
        },
        "id": "tzxtbp62osP8",
        "outputId": "6f7cdbfb-0284-4c91-9db8-b5b0d4148906"
      },
      "execution_count": null,
      "outputs": [
        {
          "output_type": "stream",
          "name": "stdout",
          "text": [
            "total =  5049\n"
          ]
        }
      ]
    },
    {
      "cell_type": "code",
      "source": [
        "i = 1\n",
        "total = 0\n",
        "while i < 100:\n",
        "  total += i\n",
        "  i += 1\n",
        "print('total = ',total)"
      ],
      "metadata": {
        "colab": {
          "base_uri": "https://localhost:8080/"
        },
        "id": "cLH9fmvno7_z",
        "outputId": "adf1f771-0cd2-4ce0-8717-1c8a3f5813be"
      },
      "execution_count": null,
      "outputs": [
        {
          "output_type": "stream",
          "name": "stdout",
          "text": [
            "total =  4950\n"
          ]
        }
      ]
    },
    {
      "cell_type": "code",
      "source": [
        "i = 1\n",
        "total = 0\n",
        "while i <= 100:\n",
        "  total += i\n",
        "  i += 2\n",
        "print('total = ',total)"
      ],
      "metadata": {
        "colab": {
          "base_uri": "https://localhost:8080/"
        },
        "id": "nOVQRfoHpXaU",
        "outputId": "9c54f33a-3b3a-4ff7-e3ea-431f4e952c63"
      },
      "execution_count": null,
      "outputs": [
        {
          "output_type": "stream",
          "name": "stdout",
          "text": [
            "total =  2500\n"
          ]
        }
      ]
    },
    {
      "cell_type": "code",
      "source": [
        "total = 0\n",
        "for i in range(1,101):\n",
        "  total += i\n",
        "print('total = ',total)"
      ],
      "metadata": {
        "colab": {
          "base_uri": "https://localhost:8080/"
        },
        "id": "dUxvXfCbpx5s",
        "outputId": "f1de269d-ac98-442e-bdbe-623211104f5d"
      },
      "execution_count": null,
      "outputs": [
        {
          "output_type": "stream",
          "name": "stdout",
          "text": [
            "total =  5050\n"
          ]
        }
      ]
    },
    {
      "cell_type": "code",
      "source": [
        "total = 0\n",
        "for i in range(2,101):\n",
        "  total += i\n",
        "print('total = ',total)"
      ],
      "metadata": {
        "colab": {
          "base_uri": "https://localhost:8080/"
        },
        "id": "V7yv3LDKqTi-",
        "outputId": "63dc29c2-23ed-44b4-d126-e75077d9e098"
      },
      "execution_count": null,
      "outputs": [
        {
          "output_type": "stream",
          "name": "stdout",
          "text": [
            "total =  5049\n"
          ]
        }
      ]
    },
    {
      "cell_type": "code",
      "source": [
        "total = 0\n",
        "for i in range(1,100):\n",
        "  total += i\n",
        "print('total = ',total)"
      ],
      "metadata": {
        "colab": {
          "base_uri": "https://localhost:8080/"
        },
        "id": "_DlCsgbPqoBu",
        "outputId": "379fe2a4-4912-4fe2-c5c2-654f402be62c"
      },
      "execution_count": null,
      "outputs": [
        {
          "output_type": "stream",
          "name": "stdout",
          "text": [
            "total =  4950\n"
          ]
        }
      ]
    }
  ]
}