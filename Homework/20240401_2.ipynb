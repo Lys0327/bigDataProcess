{
  "nbformat": 4,
  "nbformat_minor": 0,
  "metadata": {
    "colab": {
      "provenance": []
    },
    "kernelspec": {
      "name": "python3",
      "display_name": "Python 3"
    },
    "language_info": {
      "name": "python"
    }
  },
  "cells": [
    {
      "cell_type": "code",
      "execution_count": null,
      "metadata": {
        "colab": {
          "base_uri": "https://localhost:8080/"
        },
        "id": "GblKRnyxRy6J",
        "outputId": "df65288d-bcb6-4350-a77b-84697b898a77"
      },
      "outputs": [
        {
          "output_type": "stream",
          "name": "stdout",
          "text": [
            "100 1 26 37 35 23 17 46 52 29 8 96 50 75 94 72 57 60 33 22 11 73 16 40 14 36 70 54 52 39 62 20 50 69 59 44 47 72 72 100 37 81 65 44 13 62 8 95 3 69 81 35 76 44 20 37 27 13 42 84 91 11 49 96 48 67 26 82 14 64 8 39 33 45 51 72 28 67 58 89 35 91 10 73 14 47 95 58 14 81 21 8 22 10 1 44 1 93 94 73 \n",
            "times3 = 29,times5 = 19,times7 = 15\n",
            "others=47\n"
          ]
        }
      ],
      "source": [
        "import random\n",
        "times3 = 0\n",
        "times5 = 0\n",
        "times7 = 0\n",
        "others = 0\n",
        "for i in range(1,101):\n",
        "  flag = False\n",
        "  randNum = random.randint(1,100)\n",
        "  print(randNum,end = ' ')\n",
        "  if randNum %3 == 0:\n",
        "    times3 += 1\n",
        "    flag = True\n",
        "  if randNum % 5 == 0:\n",
        "    times5 += 1\n",
        "    flag = True\n",
        "  if randNum % 7 == 0:\n",
        "    times7 += 1\n",
        "    flag = True\n",
        "  if flag == False:\n",
        "    others += 1\n",
        "print('\\ntimes3 = %d,times5 = %d,times7 = %d'%(times3,times5,times7))\n",
        "print('others=%d'%(others))"
      ]
    },
    {
      "cell_type": "code",
      "source": [
        "import random\n",
        "count = 1\n",
        "for i in range(1,101):\n",
        "  randNum = random.randint(1,100)\n",
        "  if count %10 != 0:\n",
        "    print('%5d'%(randNum),end = ' ')\n",
        "  else:\n",
        "    print('%5d'%(randNum))\n",
        "  count += 1"
      ],
      "metadata": {
        "colab": {
          "base_uri": "https://localhost:8080/"
        },
        "id": "nZMhlBw0UW7K",
        "outputId": "f411bb55-b22c-48d4-f875-fa0c36567460"
      },
      "execution_count": null,
      "outputs": [
        {
          "output_type": "stream",
          "name": "stdout",
          "text": [
            "   16     9    67    61    16    65    98    71    12    70\n",
            "   41    11    49    80    44    79    12    79    29    50\n",
            "   13    52    73    37    34    14    56     8    83    91\n",
            "   39    87    21    60    89    57     1    50   100    60\n",
            "   17    55    47    76    12    65    29    38    38    60\n",
            "   74    90    54    63    67    24    82    37    85    19\n",
            "   60    85    32    40    33    46    68    51    42    66\n",
            "   83    35    43    72    57    55    55    45    98    64\n",
            "   74    12    14    82    31    96    44    20    69    48\n",
            "   78    81     5     6    52    34     1    76    29    38\n"
          ]
        }
      ]
    },
    {
      "cell_type": "code",
      "source": [
        "import random\n",
        "count = 1\n",
        "while count<= 10:\n",
        "  for i in range(1,7):\n",
        "    randNum = random.randint(1,49)\n",
        "    print('%3d'%(randNum),end = ' ')\n",
        "  print()\n",
        "  count += 1\n",
        "print('Over')"
      ],
      "metadata": {
        "colab": {
          "base_uri": "https://localhost:8080/"
        },
        "id": "MNGIRkx0Y7SD",
        "outputId": "4a028d41-770f-488b-fd90-8d76a7bb10c9"
      },
      "execution_count": null,
      "outputs": [
        {
          "output_type": "stream",
          "name": "stdout",
          "text": [
            "  7  36   1  23  41  30 \n",
            " 34  30  13  24   8  29 \n",
            " 47   3  12  33  36  49 \n",
            "  9  31  34  13  33  38 \n",
            "  8  30  29  45  34  31 \n",
            " 13  27  48  13  16   2 \n",
            " 12  31  23  24  32  16 \n",
            "  7  30  49   5  10  11 \n",
            " 32   4  21   8  37   5 \n",
            " 43  34  25  41  21  47 \n",
            "Over\n"
          ]
        }
      ]
    },
    {
      "cell_type": "code",
      "source": [],
      "metadata": {
        "id": "AdOuCAXMZzBV"
      },
      "execution_count": null,
      "outputs": []
    }
  ]
}