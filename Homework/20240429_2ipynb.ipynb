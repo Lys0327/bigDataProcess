{
  "nbformat": 4,
  "nbformat_minor": 0,
  "metadata": {
    "colab": {
      "provenance": []
    },
    "kernelspec": {
      "name": "python3",
      "display_name": "Python 3"
    },
    "language_info": {
      "name": "python"
    }
  },
  "cells": [
    {
      "cell_type": "code",
      "execution_count": 2,
      "metadata": {
        "colab": {
          "base_uri": "https://localhost:8080/"
        },
        "id": "Sz9XzoVYXok5",
        "outputId": "16f8591a-9f85-4c17-c837-c469bff98f21"
      },
      "outputs": [
        {
          "output_type": "stream",
          "name": "stdout",
          "text": [
            "   78    66    36    81    11    66    56    81    79    66\n",
            "   44    55    59    40    52     2    30    27    46    28\n",
            "   56    98    65    99    80    79    45    36    36    67\n",
            "   87    82    97    55    70    52    56    13    70    75\n",
            "   68    78    47    56    49    13    27    61    93    47\n",
            "   94    10    27    31    70    93    33    85    90    28\n",
            "   95    83     7    37    29    55    86    30    75    38\n",
            "   88    72    63    28    15    37    53    50     5    53\n",
            "   39    97     5     4    75    40    57    77    52    63\n",
            "   28    70    80   100    90    71    97    85    83    42\n"
          ]
        }
      ],
      "source": [
        "import random\n",
        "count = 1\n",
        "for i in range(1,101):\n",
        "  randNum = random.randint(1,100)\n",
        "  if count % 10!= 0:\n",
        "    print('%5d'%(randNum),end = ' ')\n",
        "  else:\n",
        "    print('%5d'%(randNum))\n",
        "  count += 1"
      ]
    },
    {
      "cell_type": "code",
      "source": [
        "import random\n",
        "count = 1\n",
        "while count <= 10:\n",
        "  for i in range(1,7):\n",
        "    randNum = random.randint(1,49)\n",
        "    print('%3d'%(randNum),end = ' ')\n",
        "  print( )\n",
        "  count += 1\n",
        "print('Over')"
      ],
      "metadata": {
        "colab": {
          "base_uri": "https://localhost:8080/"
        },
        "id": "CaeeeaSuYp8K",
        "outputId": "26f7c602-97f1-4452-daf6-5196d2ec4673"
      },
      "execution_count": 3,
      "outputs": [
        {
          "output_type": "stream",
          "name": "stdout",
          "text": [
            " 18  44  11  49  27   8 \n",
            " 10   7  34  33  10  21 \n",
            " 41  11  13  31  43  15 \n",
            " 37  31  30   4  35  22 \n",
            " 31   1   1  18  40  44 \n",
            " 41  48  42  14  34  26 \n",
            " 20   9  10  37  18  16 \n",
            " 37   7  38  36  12  25 \n",
            "  4  33   8  29  49  18 \n",
            " 39  46  27  46  24  35 \n",
            "Over\n"
          ]
        }
      ]
    },
    {
      "cell_type": "code",
      "source": [
        "import random\n",
        "count = 1\n",
        "while count <= 12:\n",
        "  for i in range(1,6):\n",
        "    randNum = random.randint(1,49)\n",
        "    print('%3d'%(randNum),end = ' ')\n",
        "  print( )\n",
        "  count += 1\n",
        "print('Over')"
      ],
      "metadata": {
        "colab": {
          "base_uri": "https://localhost:8080/"
        },
        "id": "dvk20b1QZrWa",
        "outputId": "388bf3e5-cc7d-4a68-dc1e-812c05fbfdcc"
      },
      "execution_count": 5,
      "outputs": [
        {
          "output_type": "stream",
          "name": "stdout",
          "text": [
            "  9  11  10   4  29 \n",
            " 49  29  34  21  45 \n",
            " 30  39  12  42  27 \n",
            " 45  27  46  14   9 \n",
            " 47  45  14  11  21 \n",
            " 38  42  19  45  44 \n",
            " 23  45  38  25  38 \n",
            " 21  30  43  38  34 \n",
            "  4  27  49  47  31 \n",
            " 15  13   1  24  49 \n",
            " 19  39  40  48  16 \n",
            " 20  49  22   9  12 \n",
            "Over\n"
          ]
        }
      ]
    },
    {
      "cell_type": "code",
      "source": [
        "import random\n",
        "again = 1\n",
        "while again == 1:\n",
        "  for i in range(1,7):\n",
        "    randNum = random.randint(1,49)\n",
        "    print('%3d'%(randNum),end = ' ')\n",
        "  print( )\n",
        "  again = eval(input('continue:1 or quit:0---->'))\n",
        "print('Over')"
      ],
      "metadata": {
        "colab": {
          "base_uri": "https://localhost:8080/"
        },
        "id": "2X80aq1xdczA",
        "outputId": "b667c09b-22a0-4fe7-a25e-7270960466c7"
      },
      "execution_count": 7,
      "outputs": [
        {
          "output_type": "stream",
          "name": "stdout",
          "text": [
            "  5  46  49   6   9  14 \n",
            "continue:1 or quit:0---->1\n",
            " 38  32  14  20  14  10 \n",
            "continue:1 or quit:0---->1\n",
            " 25  27  47   4  47  31 \n",
            "continue:1 or quit:0---->1\n",
            " 21   1  39  30  41   3 \n",
            "continue:1 or quit:0---->1\n",
            " 48  40  35  44  40  47 \n",
            "continue:1 or quit:0---->0\n",
            "Over\n"
          ]
        }
      ]
    },
    {
      "cell_type": "code",
      "source": [
        "import random\n",
        "again = 'yes'\n",
        "while again == 'yes':\n",
        "  for i in range(1,7):\n",
        "    randNum = random.randint(1,49)\n",
        "    print('%3d'%(randNum),end = ' ')\n",
        "  print( )\n",
        "  again = input('continue:yes or quit:no---->')\n",
        "print('Over')"
      ],
      "metadata": {
        "colab": {
          "base_uri": "https://localhost:8080/"
        },
        "id": "XaeXpnKPi7X7",
        "outputId": "0840968e-ec80-4be5-c4ee-4b83d6026f27"
      },
      "execution_count": 10,
      "outputs": [
        {
          "output_type": "stream",
          "name": "stdout",
          "text": [
            " 20  45  13  30  36  19 \n",
            "continue:yes or quit:no---->yes\n",
            " 30  18  27  35   8  13 \n",
            "continue:yes or quit:no---->yes\n",
            " 22   2  47  49  39  24 \n",
            "continue:yes or quit:no---->yes\n",
            "  2  42  23  13  47  29 \n",
            "continue:yes or quit:no---->no\n",
            "Over\n"
          ]
        }
      ]
    },
    {
      "cell_type": "code",
      "source": [
        "import random\n",
        "while True:\n",
        "  for i in range(1,7):\n",
        "    randNum = random.randint(1,49)\n",
        "    print(randNum,end = ' ')\n",
        "  print( )\n",
        "  again = eval(input('continue:1 or quit:0---->'))\n",
        "  if again == 0:\n",
        "    break\n",
        "print('Over')"
      ],
      "metadata": {
        "colab": {
          "base_uri": "https://localhost:8080/"
        },
        "id": "RW01iDiYoZnH",
        "outputId": "df9e1f9f-530e-40c1-aadb-c1b6bb975bb9"
      },
      "execution_count": 11,
      "outputs": [
        {
          "output_type": "stream",
          "name": "stdout",
          "text": [
            "10 13 28 11 25 21 \n",
            "continue:1 or quit:0---->1\n",
            "13 14 28 36 17 23 \n",
            "continue:1 or quit:0---->1\n",
            "1 21 27 8 10 34 \n",
            "continue:1 or quit:0---->1\n",
            "22 11 45 35 20 37 \n",
            "continue:1 or quit:0---->0\n",
            "Over\n"
          ]
        }
      ]
    }
  ]
}